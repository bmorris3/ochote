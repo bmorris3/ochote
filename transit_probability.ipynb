{
 "cells": [
  {
   "cell_type": "markdown",
   "metadata": {},
   "source": [
    "# Transit probability\n",
    "\n",
    "(See Eqn 12 of Winn 2011)\n",
    "\n",
    "$$ p_\\mathrm{transit} = \\frac{R_\\star + R_p}{a} \\frac{1}{1 - e^2} $$\n",
    "\n",
    "or for $R_p \\ll R_\\star$ and $e = 0$\n",
    "\n",
    "$$ p_\\mathrm{transit} \\approx \\frac{R_\\star}{a} = \\left( \\frac{3\\pi}{G\\rho_\\star P^2} \\right)^{1/3} $$"
   ]
  },
  {
   "cell_type": "code",
   "execution_count": 25,
   "metadata": {},
   "outputs": [],
   "source": [
    "%matplotlib inline\n",
    "import matplotlib.pyplot as plt\n",
    "from astropy.constants import R_sun, M_sun, G\n",
    "import numpy as np\n",
    "\n",
    "n_stars = 300\n",
    "R_star = (0.1 * np.random.randn(n_stars) + 0.8) * R_sun\n",
    "M_star = (0.1 * np.random.randn(n_stars) + 0.8) * M_sun\n",
    "rho_star = M_star / (4/3 * np.pi * R_star**3)"
   ]
  },
  {
   "cell_type": "markdown",
   "metadata": {},
   "source": [
    "Let's say we're complete at orbital periods of 5 days"
   ]
  },
  {
   "cell_type": "code",
   "execution_count": 26,
   "metadata": {},
   "outputs": [],
   "source": [
    "import astropy.units as u\n",
    "\n",
    "P = 5 * u.day\n",
    "\n",
    "p_transit = ((3 * np.pi / (G*rho_star*P**2))**(1/3)).to(u.dimensionless_unscaled).value"
   ]
  },
  {
   "cell_type": "code",
   "execution_count": 27,
   "metadata": {},
   "outputs": [
    {
     "data": {
      "text/plain": [
       "(array([  1.,   4.,  10.,  29.,  50.,  88.,  69.,  36.,  12.,   1.]),\n",
       " array([ 0.03774204,  0.04363065,  0.04951927,  0.05540788,  0.06129649,\n",
       "         0.06718511,  0.07307372,  0.07896234,  0.08485095,  0.09073957,\n",
       "         0.09662818]),\n",
       " <a list of 10 Patch objects>)"
      ]
     },
     "execution_count": 27,
     "metadata": {},
     "output_type": "execute_result"
    },
    {
     "data": {
      "image/png": "[encoded data removed]",
      "text/plain": [
       "<matplotlib.figure.Figure at 0x1185edf28>"
      ]
     },
     "metadata": {},
     "output_type": "display_data"
    }
   ],
   "source": [
    "plt.hist(p_transit)"
   ]
  },
  {
   "cell_type": "code",
   "execution_count": null,
   "metadata": {},
   "outputs": [],
   "source": []
  }
 ],
 "metadata": {
  "kernelspec": {
   "display_name": "Python 3",
   "language": "python",
   "name": "python3"
  },
  "language_info": {
   "codemirror_mode": {
    "name": "ipython",
    "version": 3
   },
   "file_extension": ".py",
   "mimetype": "text/x-python",
   "name": "python",
   "nbconvert_exporter": "python",
   "pygments_lexer": "ipython3",
   "version": "3.5.4"
  }
 },
 "nbformat": 4,
 "nbformat_minor": 2
}
